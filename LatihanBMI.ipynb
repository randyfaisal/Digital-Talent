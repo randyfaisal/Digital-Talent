{
 "cells": [
  {
   "cell_type": "markdown",
   "metadata": {},
   "source": [
    "# Latihan BMI\n",
    "## Randy Faisal"
   ]
  },
  {
   "cell_type": "code",
   "execution_count": null,
   "metadata": {
    "scrolled": true
   },
   "outputs": [],
   "source": [
    "weight = float(input(\"Please enter weight: \"))\n",
    "heightcm = float(input(\"Please enter height: \"))\n",
    "heightm = heightcm/100\n",
    "bmi = weight  / (heightm*heightm)\n",
    "\n",
    "print (\"\"\"Your BMI is\"\"\", str(bmi))\n",
    "\n",
    "if bmi < 15:\n",
    "    print(\"Very severely underweight.\")\n",
    "elif 15 >= bmi <= 16:\n",
    "    print(\"Severely underweight.\")\n",
    "elif 16 >= bmi <= 18.5:\n",
    "    print(\"Underweight.\")\n",
    "elif 18.5 >= bmi <= 25:\n",
    "    print(\"Normal(Healthy Weight).\")\n",
    "elif 25 >= bmi <= 30:\n",
    "    print(\"Overweight.\")\n",
    "elif 30 >= bmi <= 35:\n",
    "    print(\"Moderately obese.\")\n",
    "elif 35 >= bmi <= 40:\n",
    "    print(\"Severely obese.\")\n",
    "else:\n",
    "    print (\"Very Severely Obese!.\")"
   ]
  }
 ],
 "metadata": {
  "kernelspec": {
   "display_name": "Python 3",
   "language": "python",
   "name": "python3"
  },
  "language_info": {
   "codemirror_mode": {
    "name": "ipython",
    "version": 3
   },
   "file_extension": ".py",
   "mimetype": "text/x-python",
   "name": "python",
   "nbconvert_exporter": "python",
   "pygments_lexer": "ipython3",
   "version": "3.7.0"
  }
 },
 "nbformat": 4,
 "nbformat_minor": 2
}
